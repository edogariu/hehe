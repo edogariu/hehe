{
 "cells": [
  {
   "cell_type": "code",
   "execution_count": 1,
   "id": "73709dca",
   "metadata": {},
   "outputs": [
    {
     "ename": "ModuleNotFoundError",
     "evalue": "No module named 'hdf5plugin'",
     "output_type": "error",
     "traceback": [
      "\u001b[1;31m---------------------------------------------------------------------------\u001b[0m",
      "\u001b[1;31mModuleNotFoundError\u001b[0m                       Traceback (most recent call last)",
      "\u001b[1;32m<ipython-input-1-1cebf1b0d7d4>\u001b[0m in \u001b[0;36m<module>\u001b[1;34m\u001b[0m\n\u001b[1;32m----> 1\u001b[1;33m \u001b[1;32mfrom\u001b[0m \u001b[0mmodels\u001b[0m \u001b[1;32mimport\u001b[0m \u001b[1;33m*\u001b[0m\u001b[1;33m\u001b[0m\u001b[1;33m\u001b[0m\u001b[0m\n\u001b[0m\u001b[0;32m      2\u001b[0m \u001b[1;32mfrom\u001b[0m \u001b[0mjepa\u001b[0m \u001b[1;32mimport\u001b[0m \u001b[0mJEPA\u001b[0m\u001b[1;33m\u001b[0m\u001b[1;33m\u001b[0m\u001b[0m\n\u001b[0;32m      3\u001b[0m \u001b[1;32mfrom\u001b[0m \u001b[0mdatasets\u001b[0m \u001b[1;32mimport\u001b[0m \u001b[0mH5Dataset\u001b[0m\u001b[1;33m,\u001b[0m \u001b[0mSparseDataset\u001b[0m\u001b[1;33m,\u001b[0m \u001b[0mMETADATA\u001b[0m\u001b[1;33m\u001b[0m\u001b[1;33m\u001b[0m\u001b[0m\n\u001b[0;32m      4\u001b[0m \u001b[1;32mfrom\u001b[0m \u001b[0mtrainer\u001b[0m \u001b[1;32mimport\u001b[0m \u001b[0mTrainer\u001b[0m\u001b[1;33m\u001b[0m\u001b[1;33m\u001b[0m\u001b[0m\n",
      "\u001b[1;32mc:\\Users\\User\\Desktop\\hehe\\models.py\u001b[0m in \u001b[0;36m<module>\u001b[1;34m\u001b[0m\n\u001b[0;32m      9\u001b[0m \u001b[1;32mfrom\u001b[0m \u001b[0mtyping\u001b[0m \u001b[1;32mimport\u001b[0m \u001b[0mList\u001b[0m\u001b[1;33m\u001b[0m\u001b[1;33m\u001b[0m\u001b[0m\n\u001b[0;32m     10\u001b[0m \u001b[1;33m\u001b[0m\u001b[0m\n\u001b[1;32m---> 11\u001b[1;33m \u001b[1;32mfrom\u001b[0m \u001b[0mdatasets\u001b[0m \u001b[1;32mimport\u001b[0m \u001b[0mTOP_DIR_NAME\u001b[0m\u001b[1;33m\u001b[0m\u001b[1;33m\u001b[0m\u001b[0m\n\u001b[0m\u001b[0;32m     12\u001b[0m \u001b[1;33m\u001b[0m\u001b[0m\n\u001b[0;32m     13\u001b[0m \u001b[0mACTIVATION\u001b[0m \u001b[1;33m=\u001b[0m \u001b[0mnn\u001b[0m\u001b[1;33m.\u001b[0m\u001b[0mSiLU\u001b[0m\u001b[1;33m\u001b[0m\u001b[1;33m\u001b[0m\u001b[0m\n",
      "\u001b[1;32mc:\\Users\\User\\Desktop\\hehe\\datasets.py\u001b[0m in \u001b[0;36m<module>\u001b[1;34m\u001b[0m\n\u001b[0;32m      1\u001b[0m \u001b[1;32mimport\u001b[0m \u001b[0mtorch\u001b[0m\u001b[1;33m.\u001b[0m\u001b[0mutils\u001b[0m\u001b[1;33m.\u001b[0m\u001b[0mdata\u001b[0m \u001b[1;32mas\u001b[0m \u001b[0mD\u001b[0m\u001b[1;33m\u001b[0m\u001b[1;33m\u001b[0m\u001b[0m\n\u001b[0;32m      2\u001b[0m \u001b[1;32mimport\u001b[0m \u001b[0mscipy\u001b[0m\u001b[1;33m.\u001b[0m\u001b[0msparse\u001b[0m \u001b[1;32mas\u001b[0m \u001b[0mss\u001b[0m\u001b[1;33m\u001b[0m\u001b[1;33m\u001b[0m\u001b[0m\n\u001b[1;32m----> 3\u001b[1;33m \u001b[1;32mimport\u001b[0m \u001b[0mh5py\u001b[0m\u001b[1;33m;\u001b[0m \u001b[1;32mimport\u001b[0m \u001b[0mhdf5plugin\u001b[0m\u001b[1;33m\u001b[0m\u001b[1;33m\u001b[0m\u001b[0m\n\u001b[0m\u001b[0;32m      4\u001b[0m \u001b[1;32mimport\u001b[0m \u001b[0mos\u001b[0m\u001b[1;33m\u001b[0m\u001b[1;33m\u001b[0m\u001b[0m\n\u001b[0;32m      5\u001b[0m \u001b[1;32mimport\u001b[0m \u001b[0mpandas\u001b[0m \u001b[1;32mas\u001b[0m \u001b[0mpd\u001b[0m\u001b[1;33m\u001b[0m\u001b[1;33m\u001b[0m\u001b[0m\n",
      "\u001b[1;31mModuleNotFoundError\u001b[0m: No module named 'hdf5plugin'"
     ]
    }
   ],
   "source": [
    "from models import *\n",
    "from jepa import JEPA\n",
    "from datasets import H5Dataset, SparseDataset, METADATA\n",
    "from trainer import Trainer"
   ]
  },
  {
   "cell_type": "code",
   "execution_count": null,
   "id": "9aeb3e49",
   "metadata": {},
   "outputs": [],
   "source": [
    "mode = 'cite'\n",
    "days = [2]\n",
    "\n",
    "train_dataset = H5Dataset('train', mode, days=days)\n",
    "train_dataloader = train_dataset.get_dataloader(batch_size=16)\n",
    "\n",
    "val_dataset = H5Dataset('val', mode, days=days)\n",
    "val_dataloader = val_dataset.get_dataloader(batch_size=16)"
   ]
  },
  {
   "cell_type": "code",
   "execution_count": null,
   "id": "e8443af9",
   "metadata": {},
   "outputs": [],
   "source": [
    "latent_dim = 1024\n",
    "n_chan = 256\n",
    "\n",
    "in_encoder = Encoder(22050, latent_dim, 256, 6, 11, 'enformer', 'attention')\n",
    "out_decoder = Decoder(latent_dim, 140, 256, 6, 11, 'enformer', 'conv')\n",
    "predictor = LinearCoder([latent_dim, latent_dim], 256, True, 0.05)\n",
    "models = {'in_encoder': in_encoder,\n",
    "         'out_decoder': out_decoder,\n",
    "         'predictor': predictor}\n",
    "jepa = JEPA(models)\n",
    "print(jepa)"
   ]
  },
  {
   "cell_type": "code",
   "execution_count": null,
   "id": "6c4bb9ee",
   "metadata": {},
   "outputs": [],
   "source": [
    "# example pipeline for JEPA inference\n",
    "for (x, day), y in train_dataloader:  # grab one batch\n",
    "    x, day = x, day\n",
    "    y = y\n",
    "    break \n",
    "print(jepa.infer(x, day).shape, y.shape)  # these better be the same shape lol"
   ]
  },
  {
   "cell_type": "code",
   "execution_count": null,
   "id": "6a3326f5",
   "metadata": {},
   "outputs": [],
   "source": [
    "initial_lrs = {'in_encoder': 0.04,\n",
    "             'out_decoder': 0.04,\n",
    "             'predictor': 0.04}\n",
    "lr_decay_periods = {'in_encoder': 5,\n",
    "             'out_decoder': 5,\n",
    "             'predictor': 5}\n",
    "lr_decay_gammas = {'in_encoder': 0.5,\n",
    "             'out_decoder': 0.5,\n",
    "             'predictor': 0.5}\n",
    "weight_decays = {'in_encoder': 0.0001,\n",
    "             'out_decoder': 0.0001,\n",
    "             'predictor': 0.0001}\n",
    "num_epochs = 20\n",
    "eval_every = 1\n",
    "patience = 2\n",
    "num_tries = 1\n",
    "\n",
    "trainer = Trainer(jepa=jepa, \n",
    "                  train_dataloader=train_dataloader, \n",
    "                  val_dataloader=val_dataloader, \n",
    "                  initial_lrs=initial_lrs,\n",
    "                  lr_decay_gammas=lr_decay_gammas,\n",
    "                  lr_decay_periods=lr_decay_periods,\n",
    "                  weight_decays=weight_decays)\n",
    "jepa = trainer.train(num_epochs, eval_every, patience, num_tries)"
   ]
  },
  {
   "cell_type": "code",
   "execution_count": null,
   "id": "28bd9e23",
   "metadata": {},
   "outputs": [],
   "source": [
    "for (x, day), y in train_dataloader:\n",
    "    out = jepa.infer(x, day)\n",
    "    print(out[0])\n",
    "    print(y[0])\n",
    "    break"
   ]
  }
 ],
 "metadata": {
  "kernelspec": {
   "display_name": "Python 3.8.12 ('cos429')",
   "language": "python",
   "name": "python3"
  },
  "language_info": {
   "codemirror_mode": {
    "name": "ipython",
    "version": 3
   },
   "file_extension": ".py",
   "mimetype": "text/x-python",
   "name": "python",
   "nbconvert_exporter": "python",
   "pygments_lexer": "ipython3",
   "version": "3.8.12"
  },
  "vscode": {
   "interpreter": {
    "hash": "5f5d59b2a77b4ebf6561e5d36243ff64bcdac87de6cf1f51ac4d88e5e05eef2d"
   }
  }
 },
 "nbformat": 4,
 "nbformat_minor": 5
}
