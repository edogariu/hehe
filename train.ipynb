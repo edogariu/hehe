{
 "cells": [
  {
   "cell_type": "code",
   "execution_count": 1,
   "id": "73709dca",
   "metadata": {},
   "outputs": [],
   "source": [
    "from models import *\n",
    "from datasets import H5Dataset, SparseDataset\n",
    "from single_model_trainer import Trainer"
   ]
  },
  {
   "cell_type": "code",
   "execution_count": 2,
   "id": "545f4890",
   "metadata": {},
   "outputs": [],
   "source": [
    "import pandas as pd\n",
    "\n",
    "multi_df = pd.read_hdf('data/train_multi_targets.h5', start=1000, stop=2000)\n",
    "cite_df = pd.read_hdf('data/train_cite_inputs.h5', start=1000, stop=2000)\n",
    "\n",
    "multi_keys = list(multi_df.keys())\n",
    "cite_keys = list(cite_df.keys())\n",
    "\n",
    "for i in range(len(cite_keys)):\n",
    "    cite_keys[i] = cite_keys[i].split('_')[0]\n",
    "\n",
    "# inputs\n",
    "multi_idxs_shared = []\n",
    "cite_idxs_shared = []\n",
    "# targets\n",
    "multi_idxs_not_shared = []\n",
    "cite_idxs_not_shared = []\n",
    "for i, s in enumerate(multi_keys):\n",
    "    if s in cite_keys:\n",
    "        multi_idxs_shared.append(i)\n",
    "    else:\n",
    "        multi_idxs_not_shared.append(i)\n",
    "for i, s in enumerate(cite_keys):\n",
    "    if s in multi_keys:\n",
    "        cite_idxs_shared.append(i)\n",
    "    else:\n",
    "        cite_idxs_not_shared.append(i)    "
   ]
  },
  {
   "cell_type": "code",
   "execution_count": 11,
   "id": "9c21981f",
   "metadata": {},
   "outputs": [],
   "source": [
    "# HYPERPARAMETERS\n",
    "METHOD = 'cite'  # change this to decide which model to train\n",
    "\n",
    "alpha = 0.01\n",
    "\n",
    "batch_size = 512\n",
    "\n",
    "num_epochs = 20\n",
    "eval_every = 2\n",
    "patience = 1000\n",
    "num_tries = 2\n",
    "\n",
    "initial_lr = 0.01\n",
    "lr_decay_period = 10\n",
    "lr_decay_gamma = 0.7\n",
    "weight_decay = 0.0001\n",
    "dropout = 0.01"
   ]
  },
  {
   "cell_type": "code",
   "execution_count": 12,
   "id": "6c782fc3",
   "metadata": {},
   "outputs": [],
   "source": [
    "input_idxs = multi_idxs_shared if METHOD == 'multi' else cite_idxs_shared\n",
    "target_idxs = multi_idxs_not_shared if METHOD == 'multi' else cite_idxs_not_shared\n",
    "input_idxs = torch.tensor(input_idxs)\n",
    "target_idxs = torch.tensor(target_idxs)\n",
    "\n",
    "train_dataset = H5Dataset('train', METHOD)\n",
    "val_dataset = H5Dataset('val', METHOD)\n",
    "test_dataset = H5Dataset('test', METHOD)\n",
    "\n",
    "num = 3500 if METHOD == 'multi' else 2564"
   ]
  },
  {
   "cell_type": "code",
   "execution_count": 13,
   "id": "5c3f2aaa",
   "metadata": {},
   "outputs": [],
   "source": [
    "model = LinearCoder([len(input_idxs), len(target_idxs)], dropout=dropout, input_2d=False)\n",
    "device = torch.device('cuda')\n",
    "\n",
    "train_dataloader = train_dataset.get_dataloader(batch_size)\n",
    "val_dataloader = val_dataset.get_dataloader(batch_size)"
   ]
  },
  {
   "cell_type": "code",
   "execution_count": 14,
   "id": "03dd577e",
   "metadata": {},
   "outputs": [],
   "source": [
    "def sparse_loss(x, num):\n",
    "    \"\"\"\n",
    "    L1 norm of `num` smallest values of `x` .\n",
    "    Assumes `x` is a `(N, L)` tensor, and loss occurs over the `L` dimension and is then averaged over the `N` dimension.\n",
    "    If `L >= num`, returns L1 norm of `x`\n",
    "    \"\"\"\n",
    "    n = min(num, x.shape[1])\n",
    "    vals, _ = x.sort(dim=-1)\n",
    "    vals = vals[:, :n]\n",
    "    loss = torch.linalg.norm(vals, ord=1, dim=-1)\n",
    "    return loss.mean()\n",
    "\n",
    "class PredLoss():\n",
    "    def __init__(self, model, num, alpha, input_idxs, target_idxs, method):\n",
    "        self.model = model\n",
    "        self.num = num\n",
    "        self.alpha = alpha\n",
    "        self.input_idxs = input_idxs\n",
    "        self.target_idxs = target_idxs\n",
    "        self.method = method\n",
    "    \n",
    "    def loss(self, x, day, y):\n",
    "        rna = y.to(device) if self.method == 'multi' else x.to(device)\n",
    "        inputs, targets = rna[:, self.input_idxs], rna[:, self.target_idxs]\n",
    "        out = self.model(inputs)\n",
    "        \n",
    "        loss = F.mse_loss(out, targets) + self.alpha * sparse_loss(out, self.num)\n",
    "        return loss\n",
    "        \n",
    "    def error(self, x, day, y):\n",
    "        rna = y.to(device) if self.method == 'multi' else x.to(device)\n",
    "        inputs, targets = rna[:, self.input_idxs], rna[:, self.target_idxs]\n",
    "        out = self.model(inputs)\n",
    "        \n",
    "        error = F.mse_loss(out, targets)\n",
    "        return error.item()\n",
    "\n",
    "l = PredLoss(model, num, alpha, input_idxs, target_idxs, METHOD)"
   ]
  },
  {
   "cell_type": "code",
   "execution_count": 16,
   "id": "7e6d12e6",
   "metadata": {},
   "outputs": [
    {
     "name": "stdout",
     "output_type": "stream",
     "text": [
      "Using cuda for training\n",
      "Training the following model for 20 epochs:\n",
      "\n",
      "LinearCoder(\n",
      "  (blocks): Sequential(\n",
      "    (0): LinearBlock(\n",
      "      (in_linear): Linear(in_features=18386, out_features=3664, bias=True)\n",
      "      (out_linear): Linear(in_features=3664, out_features=3664, bias=True)\n",
      "      (activation): ReLU()\n",
      "      (out_norm): LayerNorm((3664,), eps=1e-05, elementwise_affine=True)\n",
      "      (dropout): Dropout(p=0.01, inplace=False)\n",
      "    )\n",
      "  )\n",
      ") with 80805856 paramters\n",
      "\n",
      "-------------------------------------------------------------\n",
      "------------------  TRAIN - EPOCH NUM 0  -------------------\n",
      "-------------------------------------------------------------\n"
     ]
    },
    {
     "name": "stderr",
     "output_type": "stream",
     "text": [
      "100%|██████████████████████████████████████████████████████████████████████████████████████████████████████████████████████████████████████████████| 110/110 [01:32<00:00,  1.18it/s]\n"
     ]
    },
    {
     "name": "stdout",
     "output_type": "stream",
     "text": [
      "avg batch training loss for epoch 0: 16.055053\n",
      "\n",
      "-------------------------------------------------------------\n",
      "-------------------  VAL - EPOCH NUM 0  -------------------\n",
      "-------------------------------------------------------------\n"
     ]
    },
    {
     "name": "stderr",
     "output_type": "stream",
     "text": [
      "100%|████████████████████████████████████████████████████████████████████████████████████████████████████████████████████████████████████████████████| 20/20 [00:13<00:00,  1.45it/s]\n"
     ]
    },
    {
     "name": "stdout",
     "output_type": "stream",
     "text": [
      "avg validation error for epoch 0: 0.36924\n"
     ]
    },
    {
     "ename": "RuntimeError",
     "evalue": "[enforce fail at ..\\caffe2\\serialize\\inline_container.cc:300] . unexpected pos 1088 vs 1019",
     "output_type": "error",
     "traceback": [
      "\u001b[1;31m---------------------------------------------------------------------------\u001b[0m",
      "\u001b[1;31mOSError\u001b[0m                                   Traceback (most recent call last)",
      "\u001b[1;32m~\\anaconda3\\lib\\site-packages\\torch\\serialization.py\u001b[0m in \u001b[0;36msave\u001b[1;34m(obj, f, pickle_module, pickle_protocol, _use_new_zipfile_serialization)\u001b[0m\n\u001b[0;32m    378\u001b[0m             \u001b[1;32mwith\u001b[0m \u001b[0m_open_zipfile_writer\u001b[0m\u001b[1;33m(\u001b[0m\u001b[0mopened_file\u001b[0m\u001b[1;33m)\u001b[0m \u001b[1;32mas\u001b[0m \u001b[0mopened_zipfile\u001b[0m\u001b[1;33m:\u001b[0m\u001b[1;33m\u001b[0m\u001b[1;33m\u001b[0m\u001b[0m\n\u001b[1;32m--> 379\u001b[1;33m                 \u001b[0m_save\u001b[0m\u001b[1;33m(\u001b[0m\u001b[0mobj\u001b[0m\u001b[1;33m,\u001b[0m \u001b[0mopened_zipfile\u001b[0m\u001b[1;33m,\u001b[0m \u001b[0mpickle_module\u001b[0m\u001b[1;33m,\u001b[0m \u001b[0mpickle_protocol\u001b[0m\u001b[1;33m)\u001b[0m\u001b[1;33m\u001b[0m\u001b[1;33m\u001b[0m\u001b[0m\n\u001b[0m\u001b[0;32m    380\u001b[0m                 \u001b[1;32mreturn\u001b[0m\u001b[1;33m\u001b[0m\u001b[1;33m\u001b[0m\u001b[0m\n",
      "\u001b[1;32m~\\anaconda3\\lib\\site-packages\\torch\\serialization.py\u001b[0m in \u001b[0;36m_save\u001b[1;34m(obj, zip_file, pickle_module, pickle_protocol)\u001b[0m\n\u001b[0;32m    498\u001b[0m         \u001b[0mnum_bytes\u001b[0m \u001b[1;33m=\u001b[0m \u001b[0mstorage\u001b[0m\u001b[1;33m.\u001b[0m\u001b[0msize\u001b[0m\u001b[1;33m(\u001b[0m\u001b[1;33m)\u001b[0m \u001b[1;33m*\u001b[0m \u001b[0mstorage\u001b[0m\u001b[1;33m.\u001b[0m\u001b[0melement_size\u001b[0m\u001b[1;33m(\u001b[0m\u001b[1;33m)\u001b[0m\u001b[1;33m\u001b[0m\u001b[1;33m\u001b[0m\u001b[0m\n\u001b[1;32m--> 499\u001b[1;33m         \u001b[0mzip_file\u001b[0m\u001b[1;33m.\u001b[0m\u001b[0mwrite_record\u001b[0m\u001b[1;33m(\u001b[0m\u001b[0mname\u001b[0m\u001b[1;33m,\u001b[0m \u001b[0mstorage\u001b[0m\u001b[1;33m.\u001b[0m\u001b[0mdata_ptr\u001b[0m\u001b[1;33m(\u001b[0m\u001b[1;33m)\u001b[0m\u001b[1;33m,\u001b[0m \u001b[0mnum_bytes\u001b[0m\u001b[1;33m)\u001b[0m\u001b[1;33m\u001b[0m\u001b[1;33m\u001b[0m\u001b[0m\n\u001b[0m\u001b[0;32m    500\u001b[0m \u001b[1;33m\u001b[0m\u001b[0m\n",
      "\u001b[1;31mOSError\u001b[0m: [Errno 28] No space left on device",
      "\nDuring handling of the above exception, another exception occurred:\n",
      "\u001b[1;31mRuntimeError\u001b[0m                              Traceback (most recent call last)",
      "\u001b[1;32m~\\AppData\\Local\\Temp/ipykernel_4192/1480984494.py\u001b[0m in \u001b[0;36m<module>\u001b[1;34m\u001b[0m\n\u001b[0;32m      1\u001b[0m \u001b[0mtrainer\u001b[0m \u001b[1;33m=\u001b[0m \u001b[0mTrainer\u001b[0m\u001b[1;33m(\u001b[0m\u001b[0mmodel\u001b[0m\u001b[1;33m,\u001b[0m \u001b[1;34m'test'\u001b[0m\u001b[1;33m,\u001b[0m \u001b[0ml\u001b[0m\u001b[1;33m.\u001b[0m\u001b[0mloss\u001b[0m\u001b[1;33m,\u001b[0m \u001b[0ml\u001b[0m\u001b[1;33m.\u001b[0m\u001b[0merror\u001b[0m\u001b[1;33m,\u001b[0m \u001b[0mtrain_dataloader\u001b[0m\u001b[1;33m,\u001b[0m \u001b[0mval_dataloader\u001b[0m\u001b[1;33m,\u001b[0m \u001b[0minitial_lr\u001b[0m\u001b[1;33m,\u001b[0m \u001b[0mlr_decay_period\u001b[0m\u001b[1;33m,\u001b[0m \u001b[0mlr_decay_gamma\u001b[0m\u001b[1;33m,\u001b[0m \u001b[0mweight_decay\u001b[0m\u001b[1;33m)\u001b[0m\u001b[1;33m\u001b[0m\u001b[1;33m\u001b[0m\u001b[0m\n\u001b[1;32m----> 2\u001b[1;33m \u001b[0mtrainer\u001b[0m\u001b[1;33m.\u001b[0m\u001b[0mtrain\u001b[0m\u001b[1;33m(\u001b[0m\u001b[0mnum_epochs\u001b[0m\u001b[1;33m,\u001b[0m \u001b[0meval_every\u001b[0m\u001b[1;33m,\u001b[0m \u001b[0mpatience\u001b[0m\u001b[1;33m,\u001b[0m \u001b[0mnum_tries\u001b[0m\u001b[1;33m)\u001b[0m\u001b[1;33m\u001b[0m\u001b[1;33m\u001b[0m\u001b[0m\n\u001b[0m",
      "\u001b[1;32m~\\Desktop\\hehe\\single_model_trainer.py\u001b[0m in \u001b[0;36mtrain\u001b[1;34m(self, num_epochs, eval_every, patience, num_tries)\u001b[0m\n\u001b[0;32m    150\u001b[0m                             \u001b[0mself\u001b[0m\u001b[1;33m.\u001b[0m\u001b[0mbest_val_err\u001b[0m \u001b[1;33m=\u001b[0m \u001b[1;33m(\u001b[0m\u001b[0me\u001b[0m\u001b[1;33m,\u001b[0m \u001b[0mval_err\u001b[0m\u001b[1;33m)\u001b[0m\u001b[1;33m\u001b[0m\u001b[1;33m\u001b[0m\u001b[0m\n\u001b[0;32m    151\u001b[0m                             \u001b[0mpatience_counter\u001b[0m \u001b[1;33m=\u001b[0m \u001b[1;36m0\u001b[0m\u001b[1;33m\u001b[0m\u001b[1;33m\u001b[0m\u001b[0m\n\u001b[1;32m--> 152\u001b[1;33m                             \u001b[0mself\u001b[0m\u001b[1;33m.\u001b[0m\u001b[0msave_checkpoint\u001b[0m\u001b[1;33m(\u001b[0m\u001b[1;33m)\u001b[0m\u001b[1;33m\u001b[0m\u001b[1;33m\u001b[0m\u001b[0m\n\u001b[0m\u001b[0;32m    153\u001b[0m                             \u001b[0mprint\u001b[0m\u001b[1;33m(\u001b[0m\u001b[1;34m'Saved checkpoint for epoch num {}'\u001b[0m\u001b[1;33m.\u001b[0m\u001b[0mformat\u001b[0m\u001b[1;33m(\u001b[0m\u001b[0me\u001b[0m\u001b[1;33m)\u001b[0m\u001b[1;33m)\u001b[0m\u001b[1;33m\u001b[0m\u001b[1;33m\u001b[0m\u001b[0m\n\u001b[0;32m    154\u001b[0m                         \u001b[1;32melse\u001b[0m\u001b[1;33m:\u001b[0m\u001b[1;33m\u001b[0m\u001b[1;33m\u001b[0m\u001b[0m\n",
      "\u001b[1;32m~\\Desktop\\hehe\\single_model_trainer.py\u001b[0m in \u001b[0;36msave_checkpoint\u001b[1;34m(self)\u001b[0m\n\u001b[0;32m    203\u001b[0m         \u001b[0mopt_filename\u001b[0m \u001b[1;33m=\u001b[0m \u001b[0mos\u001b[0m\u001b[1;33m.\u001b[0m\u001b[0mpath\u001b[0m\u001b[1;33m.\u001b[0m\u001b[0mjoin\u001b[0m\u001b[1;33m(\u001b[0m\u001b[0mTOP_DIR_NAME\u001b[0m\u001b[1;33m,\u001b[0m \u001b[1;34m'checkpoints'\u001b[0m\u001b[1;33m,\u001b[0m \u001b[1;34m'optimizers'\u001b[0m\u001b[1;33m,\u001b[0m \u001b[1;34m'{}.pth'\u001b[0m\u001b[1;33m.\u001b[0m\u001b[0mformat\u001b[0m\u001b[1;33m(\u001b[0m\u001b[0mself\u001b[0m\u001b[1;33m.\u001b[0m\u001b[0mmodel_name\u001b[0m\u001b[1;33m)\u001b[0m\u001b[1;33m)\u001b[0m\u001b[1;33m\u001b[0m\u001b[1;33m\u001b[0m\u001b[0m\n\u001b[0;32m    204\u001b[0m \u001b[1;33m\u001b[0m\u001b[0m\n\u001b[1;32m--> 205\u001b[1;33m         \u001b[0mtorch\u001b[0m\u001b[1;33m.\u001b[0m\u001b[0msave\u001b[0m\u001b[1;33m(\u001b[0m\u001b[0mself\u001b[0m\u001b[1;33m.\u001b[0m\u001b[0mmodel\u001b[0m\u001b[1;33m.\u001b[0m\u001b[0mstate_dict\u001b[0m\u001b[1;33m(\u001b[0m\u001b[1;33m)\u001b[0m\u001b[1;33m,\u001b[0m \u001b[0mmodel_filename\u001b[0m\u001b[1;33m)\u001b[0m\u001b[1;33m\u001b[0m\u001b[1;33m\u001b[0m\u001b[0m\n\u001b[0m\u001b[0;32m    206\u001b[0m         \u001b[0mtorch\u001b[0m\u001b[1;33m.\u001b[0m\u001b[0msave\u001b[0m\u001b[1;33m(\u001b[0m\u001b[0mself\u001b[0m\u001b[1;33m.\u001b[0m\u001b[0moptimizer\u001b[0m\u001b[1;33m.\u001b[0m\u001b[0mstate_dict\u001b[0m\u001b[1;33m(\u001b[0m\u001b[1;33m)\u001b[0m\u001b[1;33m,\u001b[0m \u001b[0mopt_filename\u001b[0m\u001b[1;33m)\u001b[0m\u001b[1;33m\u001b[0m\u001b[1;33m\u001b[0m\u001b[0m\n\u001b[0;32m    207\u001b[0m \u001b[1;33m\u001b[0m\u001b[0m\n",
      "\u001b[1;32m~\\anaconda3\\lib\\site-packages\\torch\\serialization.py\u001b[0m in \u001b[0;36msave\u001b[1;34m(obj, f, pickle_module, pickle_protocol, _use_new_zipfile_serialization)\u001b[0m\n\u001b[0;32m    378\u001b[0m             \u001b[1;32mwith\u001b[0m \u001b[0m_open_zipfile_writer\u001b[0m\u001b[1;33m(\u001b[0m\u001b[0mopened_file\u001b[0m\u001b[1;33m)\u001b[0m \u001b[1;32mas\u001b[0m \u001b[0mopened_zipfile\u001b[0m\u001b[1;33m:\u001b[0m\u001b[1;33m\u001b[0m\u001b[1;33m\u001b[0m\u001b[0m\n\u001b[0;32m    379\u001b[0m                 \u001b[0m_save\u001b[0m\u001b[1;33m(\u001b[0m\u001b[0mobj\u001b[0m\u001b[1;33m,\u001b[0m \u001b[0mopened_zipfile\u001b[0m\u001b[1;33m,\u001b[0m \u001b[0mpickle_module\u001b[0m\u001b[1;33m,\u001b[0m \u001b[0mpickle_protocol\u001b[0m\u001b[1;33m)\u001b[0m\u001b[1;33m\u001b[0m\u001b[1;33m\u001b[0m\u001b[0m\n\u001b[1;32m--> 380\u001b[1;33m                 \u001b[1;32mreturn\u001b[0m\u001b[1;33m\u001b[0m\u001b[1;33m\u001b[0m\u001b[0m\n\u001b[0m\u001b[0;32m    381\u001b[0m         \u001b[0m_legacy_save\u001b[0m\u001b[1;33m(\u001b[0m\u001b[0mobj\u001b[0m\u001b[1;33m,\u001b[0m \u001b[0mopened_file\u001b[0m\u001b[1;33m,\u001b[0m \u001b[0mpickle_module\u001b[0m\u001b[1;33m,\u001b[0m \u001b[0mpickle_protocol\u001b[0m\u001b[1;33m)\u001b[0m\u001b[1;33m\u001b[0m\u001b[1;33m\u001b[0m\u001b[0m\n\u001b[0;32m    382\u001b[0m \u001b[1;33m\u001b[0m\u001b[0m\n",
      "\u001b[1;32m~\\anaconda3\\lib\\site-packages\\torch\\serialization.py\u001b[0m in \u001b[0;36m__exit__\u001b[1;34m(self, *args)\u001b[0m\n\u001b[0;32m    257\u001b[0m \u001b[1;33m\u001b[0m\u001b[0m\n\u001b[0;32m    258\u001b[0m     \u001b[1;32mdef\u001b[0m \u001b[0m__exit__\u001b[0m\u001b[1;33m(\u001b[0m\u001b[0mself\u001b[0m\u001b[1;33m,\u001b[0m \u001b[1;33m*\u001b[0m\u001b[0margs\u001b[0m\u001b[1;33m)\u001b[0m \u001b[1;33m->\u001b[0m \u001b[1;32mNone\u001b[0m\u001b[1;33m:\u001b[0m\u001b[1;33m\u001b[0m\u001b[1;33m\u001b[0m\u001b[0m\n\u001b[1;32m--> 259\u001b[1;33m         \u001b[0mself\u001b[0m\u001b[1;33m.\u001b[0m\u001b[0mfile_like\u001b[0m\u001b[1;33m.\u001b[0m\u001b[0mwrite_end_of_file\u001b[0m\u001b[1;33m(\u001b[0m\u001b[1;33m)\u001b[0m\u001b[1;33m\u001b[0m\u001b[1;33m\u001b[0m\u001b[0m\n\u001b[0m\u001b[0;32m    260\u001b[0m         \u001b[0mself\u001b[0m\u001b[1;33m.\u001b[0m\u001b[0mbuffer\u001b[0m\u001b[1;33m.\u001b[0m\u001b[0mflush\u001b[0m\u001b[1;33m(\u001b[0m\u001b[1;33m)\u001b[0m\u001b[1;33m\u001b[0m\u001b[1;33m\u001b[0m\u001b[0m\n\u001b[0;32m    261\u001b[0m \u001b[1;33m\u001b[0m\u001b[0m\n",
      "\u001b[1;31mRuntimeError\u001b[0m: [enforce fail at ..\\caffe2\\serialize\\inline_container.cc:300] . unexpected pos 1088 vs 1019"
     ]
    }
   ],
   "source": [
    "trainer = Trainer(model, 'test', l.loss, l.error, train_dataloader, val_dataloader, initial_lr, lr_decay_period, lr_decay_gamma, weight_decay)\n",
    "trainer.train(num_epochs, eval_every, patience, num_tries)"
   ]
  }
 ],
 "metadata": {
  "kernelspec": {
   "display_name": "Python 3 (ipykernel)",
   "language": "python",
   "name": "python3"
  },
  "language_info": {
   "codemirror_mode": {
    "name": "ipython",
    "version": 3
   },
   "file_extension": ".py",
   "mimetype": "text/x-python",
   "name": "python",
   "nbconvert_exporter": "python",
   "pygments_lexer": "ipython3",
   "version": "3.9.7"
  },
  "vscode": {
   "interpreter": {
    "hash": "5f5d59b2a77b4ebf6561e5d36243ff64bcdac87de6cf1f51ac4d88e5e05eef2d"
   }
  }
 },
 "nbformat": 4,
 "nbformat_minor": 5
}
