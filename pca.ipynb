{
 "cells": [
  {
   "cell_type": "markdown",
   "id": "29a8d52b",
   "metadata": {},
   "source": [
    "# PCA\n",
    "\n",
    "### In this notebook we tackle the problem of sparsity in the feature representations of the different modes (chromatin accessibility, gene expression, surface protein levels). \n",
    "\n",
    "As noted in https://www.kaggle.com/code/leohash/complete-eda-of-mmscel-integration-data/notebook, DNA data has between 1-30k of the 229k features being nonzero, RNA data has 2-8k of the ~28k features as nonzero, and protein data has a small number of features and is sparse, which means this notebook don't care :)\n",
    "\n",
    "We will apply PCA (and maybe some other techniques) to investigate whether we can usefully hop into a lower-dimensional, densely-populated representation for either of these two modes."
   ]
  },
  {
   "cell_type": "code",
   "execution_count": 1,
   "id": "74ad206b",
   "metadata": {},
   "outputs": [],
   "source": [
    "# imports\n",
    "import os\n",
    "import pandas as pd\n",
    "import matplotlib.pyplot as plt\n",
    "import numpy as np\n",
    "\n",
    "from datasets import SparseDataset, H5Dataset\n",
    "\n",
    "from sklearn.decomposition import PCA, SparsePCA"
   ]
  },
  {
   "cell_type": "code",
   "execution_count": 2,
   "id": "486dbe33",
   "metadata": {},
   "outputs": [],
   "source": [
    "# -----------------------------------------------------------"
   ]
  },
  {
   "cell_type": "markdown",
   "id": "a336cc56",
   "metadata": {},
   "source": [
    "# Da Work"
   ]
  },
  {
   "cell_type": "markdown",
   "id": "53b473da",
   "metadata": {},
   "source": [
    "## DNA (Chromatin Accessibility)"
   ]
  },
  {
   "cell_type": "code",
   "execution_count": 3,
   "id": "e0f93dcd",
   "metadata": {},
   "outputs": [
    {
     "ename": "NameError",
     "evalue": "name 'FP_MULTIOME_TRAIN_INPUTS' is not defined",
     "output_type": "error",
     "traceback": [
      "\u001b[1;31m---------------------------------------------------------------------------\u001b[0m",
      "\u001b[1;31mNameError\u001b[0m                                 Traceback (most recent call last)",
      "\u001b[1;32m~\\AppData\\Local\\Temp/ipykernel_7044/928198088.py\u001b[0m in \u001b[0;36m<module>\u001b[1;34m\u001b[0m\n\u001b[1;32m----> 1\u001b[1;33m \u001b[0mtrain_f\u001b[0m \u001b[1;33m=\u001b[0m \u001b[0mFP_MULTIOME_TRAIN_INPUTS\u001b[0m\u001b[1;33m\u001b[0m\u001b[1;33m\u001b[0m\u001b[0m\n\u001b[0m\u001b[0;32m      2\u001b[0m \u001b[0mtest_f\u001b[0m \u001b[1;33m=\u001b[0m \u001b[0mFP_MULTIOME_TEST_INPUTS\u001b[0m\u001b[1;33m\u001b[0m\u001b[1;33m\u001b[0m\u001b[0m\n\u001b[0;32m      3\u001b[0m \u001b[1;33m\u001b[0m\u001b[0m\n\u001b[0;32m      4\u001b[0m \u001b[0mmax_n_components\u001b[0m \u001b[1;33m=\u001b[0m \u001b[1;36m20000\u001b[0m\u001b[1;33m\u001b[0m\u001b[1;33m\u001b[0m\u001b[0m\n\u001b[0;32m      5\u001b[0m \u001b[1;33m\u001b[0m\u001b[0m\n",
      "\u001b[1;31mNameError\u001b[0m: name 'FP_MULTIOME_TRAIN_INPUTS' is not defined"
     ]
    }
   ],
   "source": [
    "train_f = FP_MULTIOME_TRAIN_INPUTS\n",
    "test_f = FP_MULTIOME_TEST_INPUTS\n",
    "\n",
    "max_n_components = 20000\n",
    "\n",
    "p_dna = PCA(max_n_components)\n",
    "p_dna.fit(train_f)\n",
    "p_dna.fit(test_f)"
   ]
  },
  {
   "cell_type": "markdown",
   "id": "5be7c33e",
   "metadata": {},
   "source": [
    "## RNA (Gene Expression)"
   ]
  },
  {
   "cell_type": "code",
   "execution_count": 4,
   "id": "230502fe",
   "metadata": {},
   "outputs": [],
   "source": [
    "import pandas as pd\n",
    "\n",
    "multi_df = pd.read_hdf('data/train_multi_targets.h5', start=1000, stop=2000)\n",
    "cite_df = pd.read_hdf('data/train_cite_inputs.h5', start=1000, stop=2000)\n",
    "\n",
    "multi_keys = list(multi_df.keys())\n",
    "cite_keys = list(cite_df.keys())\n",
    "\n",
    "for i in range(len(cite_keys)):\n",
    "    cite_keys[i] = cite_keys[i].split('_')[0]\n",
    "\n",
    "multi_idxs = []\n",
    "cite_idxs = []\n",
    "for i, s in enumerate(multi_keys):\n",
    "    if s in cite_keys:\n",
    "        multi_idxs.append(i)\n",
    "        cite_idxs.append(cite_keys.index(s))"
   ]
  },
  {
   "cell_type": "code",
   "execution_count": null,
   "id": "a398e1e6",
   "metadata": {},
   "outputs": [],
   "source": [
    "multi_rna = np.asarray(H5Dataset('all', 'multi').targets_h5)\n",
    "cite_rna = np.asarray(H5Dataset('all', 'cite').inputs_h5)\n",
    "multi_shared = multi_rna[:, multi_idxs]\n",
    "cite_shared = cite_rna[:, cite_idxs]\n",
    "shared = np.concatenate((multi_shared, cite_shared), axis=0)"
   ]
  },
  {
   "cell_type": "code",
   "execution_count": null,
   "id": "6416b9fa",
   "metadata": {},
   "outputs": [],
   "source": [
    "p = PCA(100)\n",
    "p.fit(shared[:105])"
   ]
  }
 ],
 "metadata": {
  "kernelspec": {
   "display_name": "Python 3 (ipykernel)",
   "language": "python",
   "name": "python3"
  },
  "language_info": {
   "codemirror_mode": {
    "name": "ipython",
    "version": 3
   },
   "file_extension": ".py",
   "mimetype": "text/x-python",
   "name": "python",
   "nbconvert_exporter": "python",
   "pygments_lexer": "ipython3",
   "version": "3.9.7"
  }
 },
 "nbformat": 4,
 "nbformat_minor": 5
}
