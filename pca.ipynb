{
 "cells": [
  {
   "cell_type": "markdown",
   "id": "29a8d52b",
   "metadata": {},
   "source": [
    "# PCA\n",
    "\n",
    "### In this notebook we tackle the problem of sparsity in the feature representations of the different modes (chromatin accessibility, gene expression, surface protein levels). \n",
    "\n",
    "As noted in https://www.kaggle.com/code/leohash/complete-eda-of-mmscel-integration-data/notebook, DNA data has between 1-30k of the 229k features being nonzero, RNA data has 2-8k of the ~28k features as nonzero, and protein data has a small number of features and is sparse, which means this notebook don't care :)\n",
    "\n",
    "We will apply PCA (and maybe some other techniques) to investigate whether we can usefully hop into a lower-dimensional, densely-populated representation for either of these two modes."
   ]
  },
  {
   "cell_type": "code",
   "execution_count": 2,
   "id": "74ad206b",
   "metadata": {},
   "outputs": [],
   "source": [
    "# imports\n",
    "import os\n",
    "import pandas as pd\n",
    "import matplotlib.pyplot as plt\n",
    "import numpy as np\n",
    "import tqdm\n",
    "\n",
    "from datasets import SparseDataset, H5Dataset\n",
    "\n",
    "from sklearn.decomposition import PCA, SparsePCA, IncrementalPCA"
   ]
  },
  {
   "cell_type": "code",
   "execution_count": null,
   "id": "486dbe33",
   "metadata": {},
   "outputs": [],
   "source": [
    "# -----------------------------------------------------------"
   ]
  },
  {
   "cell_type": "markdown",
   "id": "a336cc56",
   "metadata": {},
   "source": [
    "# Da Work"
   ]
  },
  {
   "cell_type": "markdown",
   "id": "53b473da",
   "metadata": {},
   "source": [
    "## DNA (Chromatin Accessibility)"
   ]
  },
  {
   "cell_type": "code",
   "execution_count": null,
   "id": "e0f93dcd",
   "metadata": {},
   "outputs": [],
   "source": [
    "train_f = FP_MULTIOME_TRAIN_INPUTS\n",
    "test_f = FP_MULTIOME_TEST_INPUTS\n",
    "\n",
    "max_n_components = 20000\n",
    "\n",
    "p_dna = PCA(max_n_components)\n",
    "p_dna.fit(train_f)\n",
    "p_dna.fit(test_f)"
   ]
  },
  {
   "cell_type": "markdown",
   "id": "5be7c33e",
   "metadata": {},
   "source": [
    "## RNA (Gene Expression)"
   ]
  },
  {
   "cell_type": "code",
   "execution_count": 3,
   "id": "230502fe",
   "metadata": {},
   "outputs": [],
   "source": [
    "import pandas as pd\n",
    "\n",
    "multi_df = pd.read_hdf('data/train_multi_targets.h5', start=1000, stop=2000)\n",
    "cite_df = pd.read_hdf('data/train_cite_inputs.h5', start=1000, stop=2000)\n",
    "\n",
    "multi_keys = list(multi_df.keys())\n",
    "cite_keys = list(cite_df.keys())\n",
    "\n",
    "for i in range(len(cite_keys)):\n",
    "    cite_keys[i] = cite_keys[i].split('_')[0]\n",
    "\n",
    "multi_idxs = []\n",
    "cite_idxs = []\n",
    "for i, s in enumerate(multi_keys):\n",
    "    if s in cite_keys:\n",
    "        multi_idxs.append(i)\n",
    "        cite_idxs.append(cite_keys.index(s))"
   ]
  },
  {
   "cell_type": "code",
   "execution_count": null,
   "id": "a398e1e6",
   "metadata": {},
   "outputs": [],
   "source": [
    "# multi_rna = np.asarray(H5Dataset('all', 'multi').targets_h5)\n",
    "# cite_rna = np.asarray(H5Dataset('all', 'cite').inputs_h5)\n",
    "# multi_shared = multi_rna[:, multi_idxs]\n",
    "# cite_shared = cite_rna[:, cite_idxs]\n",
    "# # shared = np.concatenate((multi_shared, cite_shared), axis=0)"
   ]
  },
  {
   "cell_type": "code",
   "execution_count": 10,
   "id": "10594a0c",
   "metadata": {},
   "outputs": [
    {
     "name": "stderr",
     "output_type": "stream",
     "text": [
      "100%|██████████████████████████████████████████████████████████████████████████████████████████████████████████████████████████████████████████████████████████████| 20/20 [40:30<00:00, 121.51s/it]\n"
     ]
    }
   ],
   "source": [
    "batch_size=5120\n",
    "\n",
    "multi_shared_loader = H5Dataset('all', 'multi').get_dataloader(batch_size)\n",
    "cite_shared_loader = H5Dataset('all', 'cite').get_dataloader(batch_size)\n",
    "\n",
    "p = IncrementalPCA(5000, batch_size=batch_size)\n",
    "\n",
    "for (x, day), y in tqdm.tqdm(multi_shared_loader):\n",
    "    rna = y.numpy()\n",
    "    rna = rna[:, multi_idxs]\n",
    "    p.fit((rna != 0).astype(float))"
   ]
  },
  {
   "cell_type": "code",
   "execution_count": 12,
   "id": "b0f98d7e",
   "metadata": {},
   "outputs": [
    {
     "name": "stderr",
     "output_type": "stream",
     "text": [
      "  0%|                                                                                                                                                                        | 0/20 [00:39<?, ?it/s]"
     ]
    },
    {
     "name": "stdout",
     "output_type": "stream",
     "text": [
      "[ 0.06714004  0.05487646 -0.07046997  0.17677267  0.00583439  0.08139133\n",
      "  0.51982441  0.68326941 -0.0283741  -0.27715162  0.58717835  0.0560826\n",
      " -0.11472318 -0.09067327  0.12867208  0.09864197  0.58704133  0.03540484\n",
      "  0.83939874  0.1652116 ]\n",
      "[0. 0. 0. 0. 0. 0. 0. 1. 0. 0. 1. 0. 0. 0. 0. 0. 1. 0. 1. 0.]\n"
     ]
    },
    {
     "name": "stderr",
     "output_type": "stream",
     "text": [
      "\n"
     ]
    }
   ],
   "source": [
    "# for (x, day), y in tqdm.tqdm(multi_shared_loader):\n",
    "#     rna = y.numpy()\n",
    "#     rna = (rna[:, multi_idxs] != 0).astype(float)\n",
    "#     t = p.transform(rna)\n",
    "#     r = p.inverse_transform(t)\n",
    "#     print(r[0, :20])\n",
    "#     print(rna[0, :20])\n",
    "#     break"
   ]
  },
  {
   "cell_type": "code",
   "execution_count": 13,
   "id": "af08cf6e",
   "metadata": {},
   "outputs": [
    {
     "name": "stderr",
     "output_type": "stream",
     "text": [
      "100%|██████████████████████████████████████████████████████████████████████████████████████████████████████████████████████████████████████████████████████████████| 13/13 [22:24<00:00, 103.44s/it]\n"
     ]
    }
   ],
   "source": [
    "for (x, day), y in tqdm.tqdm(cite_shared_loader):\n",
    "    rna = x.numpy()\n",
    "    rna = rna[:, cite_idxs]\n",
    "    p.fit((rna != 0).astype(float))"
   ]
  },
  {
   "cell_type": "code",
   "execution_count": 15,
   "id": "3d235f56",
   "metadata": {},
   "outputs": [
    {
     "name": "stderr",
     "output_type": "stream",
     "text": [
      "  0%|                                                                                                                                                                        | 0/20 [00:38<?, ?it/s]\n"
     ]
    },
    {
     "name": "stdout",
     "output_type": "stream",
     "text": [
      "[-0.21263749  0.07339686 -0.0508241   0.18521511 -0.01095684  0.10056191\n",
      " -0.10150701  0.2873682  -0.17385937 -0.1198185   0.6742844   0.15951751\n",
      "  0.19980298 -0.0106914   0.22917121 -0.0055773   0.10293863 -0.15654958\n",
      "  0.02219364 -0.04935069]\n",
      "[0. 0. 0. 0. 0. 0. 0. 0. 0. 0. 1. 0. 0. 0. 0. 0. 0. 0. 0. 0.]\n"
     ]
    },
    {
     "name": "stderr",
     "output_type": "stream",
     "text": [
      "  0%|                                                                                                                                                                        | 0/13 [00:24<?, ?it/s]"
     ]
    },
    {
     "name": "stdout",
     "output_type": "stream",
     "text": [
      "[ 0.10195501 -0.03635179  0.06681627 -0.03937548 -0.01161978 -0.08236591\n",
      "  0.08501981  0.97663378  0.23727503  1.22752942  0.83175774  0.53139381\n",
      "  0.44288236  0.02910783 -0.08121857  0.03334935  0.66305163 -0.06371141\n",
      "  0.51174748  0.3771991 ]\n",
      "[0. 0. 0. 0. 0. 0. 0. 1. 0. 1. 1. 1. 0. 0. 0. 0. 1. 0. 1. 0.]\n"
     ]
    },
    {
     "name": "stderr",
     "output_type": "stream",
     "text": [
      "\n"
     ]
    }
   ],
   "source": [
    "for (x, day), y in tqdm.tqdm(multi_shared_loader):\n",
    "    rna = y.numpy()\n",
    "    rna = (rna[:, multi_idxs] != 0).astype(float)\n",
    "    t = p.transform(rna)\n",
    "    r = p.inverse_transform(t)\n",
    "    print(r[0, :20])\n",
    "    print(rna[0, :20])\n",
    "    break\n",
    "for (x, day), y in tqdm.tqdm(cite_shared_loader):\n",
    "    rna = x.numpy()\n",
    "    rna = (rna[:, cite_idxs] != 0).astype(float)\n",
    "    t = p.transform(rna)\n",
    "    r = p.inverse_transform(t)\n",
    "    print(r[0, :20])\n",
    "    print(rna[0, :20])\n",
    "    break"
   ]
  },
  {
   "cell_type": "code",
   "execution_count": 19,
   "id": "91df0a14",
   "metadata": {},
   "outputs": [],
   "source": [
    "p2 = IncrementalPCA(5120)\n",
    "with open('data/pca.pkl', 'rb') \n",
    "p2 = pickle.load(f)"
   ]
  }
 ],
 "metadata": {
  "kernelspec": {
   "display_name": "Python 3 (ipykernel)",
   "language": "python",
   "name": "python3"
  },
  "language_info": {
   "codemirror_mode": {
    "name": "ipython",
    "version": 3
   },
   "file_extension": ".py",
   "mimetype": "text/x-python",
   "name": "python",
   "nbconvert_exporter": "python",
   "pygments_lexer": "ipython3",
   "version": "3.9.7"
  }
 },
 "nbformat": 4,
 "nbformat_minor": 5
}
